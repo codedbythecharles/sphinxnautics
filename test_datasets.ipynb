{
 "cells": [
  {
   "cell_type": "code",
   "execution_count": 5,
   "id": "5c0b9dc4",
   "metadata": {},
   "outputs": [
    {
     "data": {
      "application/vnd.jupyter.widget-view+json": {
       "model_id": "ebcd319c1d794c2c83620947a5c27bd3",
       "version_major": 2,
       "version_minor": 0
      },
      "text/plain": [
       "Filter:   0%|          | 0/54125 [00:00<?, ? examples/s]"
      ]
     },
     "metadata": {},
     "output_type": "display_data"
    },
    {
     "name": "stdout",
     "output_type": "stream",
     "text": [
      "Counter({'cpp': 42192, 'python': 11915})\n"
     ]
    }
   ],
   "source": [
    "from collections import Counter\n",
    "from datasets import load_dataset,load_from_disk\n",
    "dataset=load_from_disk('codeforces_cot_filtered_truncated')\n",
    "dataset=dataset.filter(lambda ex:ex['language'] in ['python','cpp'])\n",
    "langs = [ex[\"language\"] for ex in dataset]\n",
    "print(Counter(langs))\n"
   ]
  },
  {
   "cell_type": "code",
   "execution_count": 8,
   "id": "19a2bd0b",
   "metadata": {},
   "outputs": [
    {
     "data": {
      "application/vnd.jupyter.widget-view+json": {
       "model_id": "3f51454a5c9a43619898800fca5fc4c9",
       "version_major": 2,
       "version_minor": 0
      },
      "text/plain": [
       "Saving the dataset (0/7 shards):   0%|          | 0/54107 [00:00<?, ? examples/s]"
      ]
     },
     "metadata": {},
     "output_type": "display_data"
    }
   ],
   "source": [
    "dataset.save_to_disk('codeforces_cot_filtered_truncated_v1')"
   ]
  },
  {
   "cell_type": "code",
   "execution_count": 27,
   "id": "34dbb6c6",
   "metadata": {},
   "outputs": [
    {
     "data": {
      "application/vnd.jupyter.widget-view+json": {
       "model_id": "531dd60fa65f4067896af33a96cbcca1",
       "version_major": 2,
       "version_minor": 0
      },
      "text/plain": [
       "Saving the dataset (0/2 shards):   0%|          | 0/16316 [00:00<?, ? examples/s]"
      ]
     },
     "metadata": {},
     "output_type": "display_data"
    },
    {
     "data": {
      "application/vnd.jupyter.widget-view+json": {
       "model_id": "5fbadb7a907448e4923087cc4e3e9189",
       "version_major": 2,
       "version_minor": 0
      },
      "text/plain": [
       "Saving the dataset (0/1 shards):   0%|          | 0/2068 [00:00<?, ? examples/s]"
      ]
     },
     "metadata": {},
     "output_type": "display_data"
    }
   ],
   "source": [
    "from collections import Counter\n",
    "from datasets import load_dataset,load_from_disk\n",
    "dataset=load_from_disk('new_dataset_annotated_train')\n",
    "dataset=dataset.filter(lambda ex:ex['dup_top_score']>0.8)\n",
    "dataset.save_to_disk('codeforces_cot_filtered_truncated_matched_train_v1')\n",
    "\n",
    "dataset=load_from_disk('new_dataset_annotated_test')\n",
    "dataset=dataset.filter(lambda ex:ex['dup_top_score']>0.8)\n",
    "dataset.save_to_disk('codeforces_cot_filtered_truncated_matched_val_v1')"
   ]
  },
  {
   "cell_type": "code",
   "execution_count": 24,
   "id": "82d6f92b",
   "metadata": {},
   "outputs": [
    {
     "data": {
      "application/vnd.jupyter.widget-view+json": {
       "model_id": "0363f0dc3af54f31993a030684db91e8",
       "version_major": 2,
       "version_minor": 0
      },
      "text/plain": [
       "Filter:   0%|          | 0/54107 [00:00<?, ? examples/s]"
      ]
     },
     "metadata": {},
     "output_type": "display_data"
    }
   ],
   "source": [
    "dataset=dataset.filter(lambda ex:ex['dup_top_score']>0.8)\n"
   ]
  },
  {
   "cell_type": "code",
   "execution_count": null,
   "id": "b755e483",
   "metadata": {},
   "outputs": [
    {
     "ename": "FileNotFoundError",
     "evalue": "Directory haj1r/sphinxnautics-codeforces-cot-v3 not found",
     "output_type": "error",
     "traceback": [
      "\u001b[0;31m---------------------------------------------------------------------------\u001b[0m",
      "\u001b[0;31mFileNotFoundError\u001b[0m                         Traceback (most recent call last)",
      "Cell \u001b[0;32mIn[52], line 1\u001b[0m\n\u001b[0;32m----> 1\u001b[0m \u001b[43mload_from_disk\u001b[49m\u001b[43m(\u001b[49m\u001b[38;5;124;43m\"\u001b[39;49m\u001b[38;5;124;43mhaj1r/sphinxnautics-codeforces-cot-v3\u001b[39;49m\u001b[38;5;124;43m\"\u001b[39;49m\u001b[43m)\u001b[49m[\u001b[38;5;124m'\u001b[39m\u001b[38;5;124mtrain\u001b[39m\u001b[38;5;124m'\u001b[39m]\n",
      "File \u001b[0;32m/usr/local/lib/python3.10/dist-packages/datasets/load.py:1466\u001b[0m, in \u001b[0;36mload_from_disk\u001b[0;34m(dataset_path, keep_in_memory, storage_options)\u001b[0m\n\u001b[1;32m   1464\u001b[0m fs, \u001b[38;5;241m*\u001b[39m_ \u001b[38;5;241m=\u001b[39m url_to_fs(dataset_path, \u001b[38;5;241m*\u001b[39m\u001b[38;5;241m*\u001b[39m(storage_options \u001b[38;5;129;01mor\u001b[39;00m {}))\n\u001b[1;32m   1465\u001b[0m \u001b[38;5;28;01mif\u001b[39;00m \u001b[38;5;129;01mnot\u001b[39;00m fs\u001b[38;5;241m.\u001b[39mexists(dataset_path):\n\u001b[0;32m-> 1466\u001b[0m     \u001b[38;5;28;01mraise\u001b[39;00m \u001b[38;5;167;01mFileNotFoundError\u001b[39;00m(\u001b[38;5;124mf\u001b[39m\u001b[38;5;124m\"\u001b[39m\u001b[38;5;124mDirectory \u001b[39m\u001b[38;5;132;01m{\u001b[39;00mdataset_path\u001b[38;5;132;01m}\u001b[39;00m\u001b[38;5;124m not found\u001b[39m\u001b[38;5;124m\"\u001b[39m)\n\u001b[1;32m   1467\u001b[0m \u001b[38;5;28;01mif\u001b[39;00m fs\u001b[38;5;241m.\u001b[39misfile(posixpath\u001b[38;5;241m.\u001b[39mjoin(dataset_path, config\u001b[38;5;241m.\u001b[39mDATASET_INFO_FILENAME)) \u001b[38;5;129;01mand\u001b[39;00m fs\u001b[38;5;241m.\u001b[39misfile(\n\u001b[1;32m   1468\u001b[0m     posixpath\u001b[38;5;241m.\u001b[39mjoin(dataset_path, config\u001b[38;5;241m.\u001b[39mDATASET_STATE_JSON_FILENAME)\n\u001b[1;32m   1469\u001b[0m ):\n\u001b[1;32m   1470\u001b[0m     \u001b[38;5;28;01mreturn\u001b[39;00m Dataset\u001b[38;5;241m.\u001b[39mload_from_disk(dataset_path, keep_in_memory\u001b[38;5;241m=\u001b[39mkeep_in_memory, storage_options\u001b[38;5;241m=\u001b[39mstorage_options)\n",
      "\u001b[0;31mFileNotFoundError\u001b[0m: Directory haj1r/sphinxnautics-codeforces-cot-v3 not found"
     ]
    }
   ],
   "source": [
    "load_dataset(\"haj1r/sphinxnautics-codeforces-cot-v3\")['train']"
   ]
  },
  {
   "cell_type": "code",
   "execution_count": 50,
   "id": "0a2765f7",
   "metadata": {},
   "outputs": [],
   "source": [
    "from datasets import load_dataset\n",
    "\n",
    "dataset = load_dataset(\"haj1r/sphinxnautics-codeforces-cot-v3\")\n"
   ]
  },
  {
   "cell_type": "code",
   "execution_count": 45,
   "id": "c674aca9",
   "metadata": {},
   "outputs": [],
   "source": [
    "from datasets import load_from_disk, DatasetDict\n",
    "\n",
    "dataset_combined = DatasetDict({\n",
    "    \"train\": load_from_disk(\"codeforces_cot_filtered_truncated_matched_train_v1\"),\n",
    "    \"validation\": load_from_disk(\"codeforces_cot_filtered_truncated_matched_test_v1\")\n",
    "})\n"
   ]
  },
  {
   "cell_type": "code",
   "execution_count": 48,
   "id": "38abd774",
   "metadata": {},
   "outputs": [
    {
     "data": {
      "application/vnd.jupyter.widget-view+json": {
       "model_id": "9f6e75a7bbbf430dac40e117be794786",
       "version_major": 2,
       "version_minor": 0
      },
      "text/plain": [
       "Creating json from Arrow format:   0%|          | 0/17 [00:00<?, ?ba/s]"
      ]
     },
     "metadata": {},
     "output_type": "display_data"
    },
    {
     "data": {
      "text/plain": [
       "735679355"
      ]
     },
     "execution_count": 48,
     "metadata": {},
     "output_type": "execute_result"
    }
   ],
   "source": [
    "ds = load_from_disk(\"codeforces_cot_filtered_truncated_matched_train_v1\")\n",
    "ds.to_json(\"train.jsonl\", orient=\"records\", lines=True)"
   ]
  },
  {
   "cell_type": "code",
   "execution_count": null,
   "id": "794785d1",
   "metadata": {},
   "outputs": [
    {
     "data": {
      "application/vnd.jupyter.widget-view+json": {
       "model_id": "01a8cbd23a15479dae96bc26f773ee91",
       "version_major": 2,
       "version_minor": 0
      },
      "text/plain": [
       "Saving the dataset (0/2 shards):   0%|          | 0/16316 [00:00<?, ? examples/s]"
      ]
     },
     "metadata": {},
     "output_type": "display_data"
    },
    {
     "data": {
      "application/vnd.jupyter.widget-view+json": {
       "model_id": "02a71148187f4c49b74771610a2204eb",
       "version_major": 2,
       "version_minor": 0
      },
      "text/plain": [
       "Saving the dataset (0/1 shards):   0%|          | 0/2068 [00:00<?, ? examples/s]"
      ]
     },
     "metadata": {},
     "output_type": "display_data"
    }
   ],
   "source": [
    "dataset_combined.save_to_disk('codeforces_cot_filtered_32B-v2')"
   ]
  },
  {
   "cell_type": "code",
   "execution_count": null,
   "id": "31a44a32",
   "metadata": {},
   "outputs": [],
   "source": [
    "kl_temp=5          \n",
    "with torch.autocast(device_type=\"cuda\", dtype=torch.bfloat16):       \n",
    "    outputs = model.generate(input_ids=inputs[0:,:last_question_index].to(device),attention_mask=attention_mask[0:,:last_question_index].to(device),early_stopping=early_stopping, temperature=temp,pad_token_id=pad_token_id, top_p=0.9,top_k=50,min_length=min_len, max_new_tokens=max_new_tokens,return_dict_in_generate=True,output_scores=True,do_sample=do_sample)\n",
    "#                        s_logits = outputs.logits[:, -1, :]\n",
    "    new_inputs=outputs['sequences']#torch.cat([inputs[0:,:last_question_index],]\n",
    "    s_device=model.device\n",
    "    s_outputs = model(input_ids=new_inputs.to(s_device),attention_mask=attention_mask)\n",
    "    s_logits=s_outputs.logits[:,last_question_index:]\n",
    "    s_logp = F.log_softmax(s_logits / kl_temp, dim=-1)\n",
    "\n",
    "with torch.no_grad(), torch.autocast(device_type=\"cuda\", dtype=torch.bfloat16):       \n",
    "    t_device=teacher.device\n",
    "    attention_mask = torch.ones_like(new_inputs, dtype=torch.long)\n",
    "    t_outputs = teacher(input_ids=new_inputs.to(t_device),attention_mask=attention_mask)\n",
    "    t_logits=t_outputs.logits[:,last_question_index:]\n",
    "    t_logp = F.log_softmax(t_logits / kl_temp, dim=-1)\n",
    "loss_kl = F.kl_div(s_logp, t_logp, reduction=\"batchmean\", log_target=True) * (kl_temp **2)\n"
   ]
  },
  {
   "cell_type": "code",
   "execution_count": 7,
   "id": "61470f42",
   "metadata": {},
   "outputs": [
    {
     "data": {
      "text/plain": [
       "18365"
      ]
     },
     "execution_count": 7,
     "metadata": {},
     "output_type": "execute_result"
    }
   ],
   "source": [
    "len(dataset)"
   ]
  },
  {
   "cell_type": "code",
   "execution_count": 25,
   "id": "deb7c5b0",
   "metadata": {},
   "outputs": [
    {
     "data": {
      "application/vnd.jupyter.widget-view+json": {
       "model_id": "8a468c8c4a284e0ea258fbdc6c2d4bdb",
       "version_major": 2,
       "version_minor": 0
      },
      "text/plain": [
       "Saving the dataset (0/1 shards):   0%|          | 0/2068 [00:00<?, ? examples/s]"
      ]
     },
     "metadata": {},
     "output_type": "display_data"
    }
   ],
   "source": [
    "dataset.save_to_disk('codeforces_cot_filtered_truncated_matched_test_v1')"
   ]
  },
  {
   "cell_type": "code",
   "execution_count": 29,
   "id": "86aa492c",
   "metadata": {},
   "outputs": [
    {
     "data": {
      "application/vnd.jupyter.widget-view+json": {
       "model_id": "50ef00d8284047f285506eea7ba29e19",
       "version_major": 2,
       "version_minor": 0
      },
      "text/plain": [
       "Loading checkpoint shards:   0%|          | 0/4 [00:00<?, ?it/s]"
      ]
     },
     "metadata": {},
     "output_type": "display_data"
    },
    {
     "name": "stderr",
     "output_type": "stream",
     "text": [
      "/usr/local/lib/python3.10/dist-packages/transformers/models/auto/tokenization_auto.py:935: FutureWarning: The `use_auth_token` argument is deprecated and will be removed in v5 of Transformers. Please use `token` instead.\n",
      "  warnings.warn(\n"
     ]
    },
    {
     "name": "stdout",
     "output_type": "stream",
     "text": [
      "Qwen2.5-7B-Instruct_epoch_4_step_1000.pt_ft_codeforces_cot_filtered_truncated_matched_v1_ACL cpu\n"
     ]
    }
   ],
   "source": [
    "import torch\n",
    "from transformers import AutoModelForCausalLM,AutoTokenizer\n",
    "model_name='Qwen/Qwen2.5-7B-Instruct'\n",
    "chkpoint_path=\"checkpoints4/Qwen2.5-7B-Instruct/codeforces_cot_filtered_truncated_matched_v1/epoch_1/model_step_500.pt\"\n",
    "chkpoint_path=\"checkpoints3p/Qwen2.5-7B-Instruct/codeforces_cot_filtered_truncated_matched_v1/epoch_4/model_step_1000.pt\"\n",
    "access_token=''\n",
    "model = AutoModelForCausalLM.from_pretrained(model_name,token=access_token,torch_dtype=torch.bfloat16,attn_implementation=\"flash_attention_2\",device_map='cpu')\n",
    "ckpt = torch.load(chkpoint_path, map_location='cpu')\n",
    "model.load_state_dict(ckpt, strict=False)\n",
    "\n",
    "tokenizer = AutoTokenizer.from_pretrained(model_name, use_auth_token=access_token)\n",
    "if tokenizer.pad_token_id is None:\n",
    "        # Add a new unique padding token\n",
    "        tokenizer.add_special_tokens({'pad_token': '[PAD]'})\n",
    "\n",
    "dataset_name=chkpoint_path.split('/')[2]\n",
    "if chkpoint_path.split('/')[0][-1]=='4':\n",
    "        dataset_name+='_RL'\n",
    "elif chkpoint_path.split('/')[0][-1]=='p':\n",
    "        dataset_name+='_ACL'\n",
    "epoch_num=chkpoint_path.split('/')[3].split('_')[-1]\n",
    "start_step=chkpoint_path.split('/')[4].split('_')[-1]\n",
    "save_dir=f\"{model_name.split('/')[-1]}_epoch_{epoch_num}_step_{start_step}_ft_{dataset_name}\"\n",
    "        \n",
    "print(save_dir,model.device)\n"
   ]
  },
  {
   "cell_type": "code",
   "execution_count": 30,
   "id": "94263bd9",
   "metadata": {},
   "outputs": [
    {
     "data": {
      "text/plain": [
       "('Qwen2.5-7B-Instruct_epoch_4_step_1000.pt_ft_codeforces_cot_filtered_truncated_matched_v1_ACL/tokenizer_config.json',\n",
       " 'Qwen2.5-7B-Instruct_epoch_4_step_1000.pt_ft_codeforces_cot_filtered_truncated_matched_v1_ACL/special_tokens_map.json',\n",
       " 'Qwen2.5-7B-Instruct_epoch_4_step_1000.pt_ft_codeforces_cot_filtered_truncated_matched_v1_ACL/chat_template.jinja',\n",
       " 'Qwen2.5-7B-Instruct_epoch_4_step_1000.pt_ft_codeforces_cot_filtered_truncated_matched_v1_ACL/vocab.json',\n",
       " 'Qwen2.5-7B-Instruct_epoch_4_step_1000.pt_ft_codeforces_cot_filtered_truncated_matched_v1_ACL/merges.txt',\n",
       " 'Qwen2.5-7B-Instruct_epoch_4_step_1000.pt_ft_codeforces_cot_filtered_truncated_matched_v1_ACL/added_tokens.json',\n",
       " 'Qwen2.5-7B-Instruct_epoch_4_step_1000.pt_ft_codeforces_cot_filtered_truncated_matched_v1_ACL/tokenizer.json')"
      ]
     },
     "execution_count": 30,
     "metadata": {},
     "output_type": "execute_result"
    }
   ],
   "source": [
    "model.save_pretrained(save_dir)\n",
    "tokenizer.save_pretrained(save_dir)"
   ]
  }
 ],
 "metadata": {
  "kernelspec": {
   "display_name": "Python 3",
   "language": "python",
   "name": "python3"
  },
  "language_info": {
   "codemirror_mode": {
    "name": "ipython",
    "version": 3
   },
   "file_extension": ".py",
   "mimetype": "text/x-python",
   "name": "python",
   "nbconvert_exporter": "python",
   "pygments_lexer": "ipython3",
   "version": "3.10.12"
  }
 },
 "nbformat": 4,
 "nbformat_minor": 5
}
